{
 "cells": [
  {
   "cell_type": "markdown",
   "metadata": {
    "slideshow": {
     "slide_type": "slide"
    }
   },
   "source": [
    "# Package Installation\n",
    "```python3\n",
    "# conda update --all \n",
    "# conda create -n control-env-3-10 pytest numpy scipy control matplotlib ipykernel slycot pandas python=3.10\n",
    "```"
   ]
  },
  {
   "cell_type": "markdown",
   "metadata": {},
   "source": [
    "## Importing Libraries\n"
   ]
  },
  {
   "cell_type": "code",
   "execution_count": 21,
   "metadata": {},
   "outputs": [],
   "source": [
    "import numpy as np\n",
    "import matplotlib.pyplot as plt\n",
    "import control as ct"
   ]
  },
  {
   "cell_type": "markdown",
   "metadata": {},
   "source": [
    "## Define Functions"
   ]
  },
  {
   "cell_type": "code",
   "execution_count": 22,
   "metadata": {},
   "outputs": [],
   "source": [
    "def get_leadlag1(fZero: float, fPole: float, Ts: float) -> ct.StateSpace:\n",
    "\n",
    "    alpha = fZero / fPole\n",
    "    fCenter = fPole * np.sqrt(alpha)\n",
    "    phaseLift = np.arcsin((1.0 - alpha) / (1.0 + alpha)) * (180.0 / np.pi)\n",
    "\n",
    "    return get_phase_comp(fCenter, phaseLift, Ts)\n",
    "\n",
    "\n",
    "def get_leadlag2(\n",
    "    fZero: float, DZero: float, fPole: float, DPole: float, Ts: float\n",
    ") -> ct.StateSpace:\n",
    "\n",
    "    wZero = 2 * np.pi * fZero\n",
    "    wPole = 2 * np.pi * fPole\n",
    "\n",
    "    wZero = 2 / Ts * np.tan(wZero * Ts / 2)\n",
    "    wPole = 2 / Ts * np.tan(wPole * Ts / 2)\n",
    "\n",
    "    k0 = wPole * wPole\n",
    "    k1 = wZero * wZero\n",
    "    k2 = Ts * Ts * k0 * k1\n",
    "    k3 = DPole * Ts * wPole * k1\n",
    "    k4 = DZero * Ts * k0 * wZero\n",
    "    k5 = 1 / (k2 + 4 * (k1 + k3))\n",
    "\n",
    "    b0 = (k2 + 4 * (k4 + k0)) * k5\n",
    "    b1 = 2 * (k2 - 4 * k0) * k5\n",
    "    b2 = (k2 + 4 * (k0 - k4)) * k5\n",
    "    a1 = 2 * (k2 - 4 * k1) * k5\n",
    "    a2 = (k2 + 4 * (k1 - k3)) * k5\n",
    "\n",
    "    B = [b0, b1, b2]\n",
    "    A = [1, a1, a2]\n",
    "\n",
    "    return ct.tf2ss(ct.TransferFunction(B, A, Ts))\n",
    "\n",
    "\n",
    "def get_lowpass1(fcut: float, Ts: float) -> ct.StateSpace:\n",
    "\n",
    "    a1 = -np.exp(-Ts * 2 * np.pi * fcut)\n",
    "    b0 = 1 + a1\n",
    "\n",
    "    B = [b0, 0]\n",
    "    A = [1, a1]\n",
    "\n",
    "    return ct.tf2ss(ct.TransferFunction(B, A, Ts))\n",
    "\n",
    "\n",
    "def get_lowpass2(fcut: float, D: float, Ts: float) -> ct.StateSpace:\n",
    "\n",
    "    wcut = 2 * np.pi * fcut\n",
    "    k1 = 2 * D * Ts * wcut\n",
    "\n",
    "    a2 = 1 / (Ts**2 * wcut**2 + k1 + 1)\n",
    "    a1 = -(k1 + 2) * a2\n",
    "    b0 = 1 + a1 + a2\n",
    "\n",
    "    B = [b0, 0, 0]\n",
    "    A = [1, a1, a2]\n",
    "\n",
    "    return ct.tf2ss(ct.TransferFunction(B, A, Ts))\n",
    "\n",
    "\n",
    "def get_notch(fcut: float, D: float, Ts: float) -> ct.StateSpace:\n",
    "\n",
    "    Q = 1 / (2 * D)\n",
    "    #  prewarp is done implicitly\n",
    "    omega = 2 * np.pi * fcut * Ts\n",
    "    sn = np.sin(omega)\n",
    "    cs = np.cos(omega)\n",
    "    alpha = sn / (2 * Q)\n",
    "\n",
    "    b0 = 1 / (1 + alpha)\n",
    "    b1 = -2 * cs / (1 + alpha)\n",
    "    b2 = b0\n",
    "    a1 = b1\n",
    "    a2 = (1 - alpha) / (1 + alpha)\n",
    "\n",
    "    B = [b0, b1, b2]\n",
    "    A = [1, a1, a2]\n",
    "\n",
    "    return ct.tf2ss(ct.TransferFunction(B, A, Ts))\n",
    "\n",
    "\n",
    "def get_phase_comp(fCenter: float, phaseLift: float, Ts: float) -> ct.StateSpace:\n",
    "\n",
    "    omega = 2.0 * np.pi * fCenter * Ts\n",
    "    sn = np.sin(phaseLift * np.pi / 180)\n",
    "    gain = (1 + sn) / (1 - sn)\n",
    "    # approximate prewarping (series expansion)\n",
    "    alpha = (12 - omega**2) / (6 * omega * np.sqrt(gain))\n",
    "    k = 1.0 / (1.0 + alpha)\n",
    "\n",
    "    b0 = (1 + alpha * gain) * k\n",
    "    b1 = (1 - alpha * gain) * k\n",
    "    a1 = (1 - alpha) * k\n",
    "\n",
    "    B = [b0, b1]\n",
    "    A = [1, a1]\n",
    "\n",
    "    return ct.tf2ss(ct.TransferFunction(B, A, Ts))\n",
    "\n",
    "\n",
    "def bode_plot(G: ct.StateSpace, freq: np.ndarray) -> None:\n",
    "\n",
    "    mag, phase, _ = G.frequency_response(2.0 * np.pi * freq)\n",
    "\n",
    "    plt.figure()\n",
    "    plt.subplot(2, 1, 1)\n",
    "    plt.semilogx(freq, 20 * np.log10(mag))\n",
    "    plt.grid(True)\n",
    "    plt.ylabel(\"Magnitude (dB)\")\n",
    "    plt.subplot(2, 1, 2)\n",
    "    plt.semilogx(freq, phase * (180.0 / np.pi))\n",
    "    plt.grid(True)\n",
    "    plt.xlabel(\"Frequency (Hz)\")\n",
    "    plt.ylabel(\"Phase (deg)\")\n",
    "    plt.show()"
   ]
  },
  {
   "cell_type": "markdown",
   "metadata": {},
   "source": [
    "## Stuff"
   ]
  },
  {
   "cell_type": "code",
   "execution_count": 23,
   "metadata": {},
   "outputs": [],
   "source": [
    "Ts = 50.0e-6\n",
    "freq = np.logspace(0, np.log10(0.99 / (2.0 * Ts)), 1000)"
   ]
  },
  {
   "cell_type": "markdown",
   "metadata": {},
   "source": [
    "## Run Test"
   ]
  },
  {
   "cell_type": "code",
   "execution_count": 24,
   "metadata": {},
   "outputs": [
    {
     "data": {
      "image/png": "[encoded data removed]",
      "text/plain": [
       "<Figure size 640x480 with 2 Axes>"
      ]
     },
     "metadata": {},
     "output_type": "display_data"
    }
   ],
   "source": [
    "# define NOTCH_F_CUT 1.0e3f\n",
    "# define NOTCH_D 0.1f\n",
    "\n",
    "fn = 1.0e3\n",
    "Dn = 0.1\n",
    "\n",
    "G = get_notch(fn, Dn, Ts)\n",
    "\n",
    "bode_plot(G, freq)"
   ]
  },
  {
   "cell_type": "code",
   "execution_count": null,
   "metadata": {},
   "outputs": [],
   "source": []
  }
 ],
 "metadata": {
  "kernelspec": {
   "display_name": "control-env-3-10",
   "language": "python",
   "name": "python3"
  },
  "language_info": {
   "codemirror_mode": {
    "name": "ipython",
    "version": 3
   },
   "file_extension": ".py",
   "mimetype": "text/x-python",
   "name": "python",
   "nbconvert_exporter": "python",
   "pygments_lexer": "ipython3",
   "version": "3.10.14"
  }
 },
 "nbformat": 4,
 "nbformat_minor": 2
}
